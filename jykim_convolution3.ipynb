{
 "cells": [
  {
   "cell_type": "code",
   "execution_count": 4,
   "metadata": {},
   "outputs": [],
   "source": [
    "import numpy as np\n",
    "import cv2 as cv\n",
    "from matplotlib import pyplot as plt\n",
    "import argparse\n",
    "from skimage.exposure import rescale_intensity\n",
    "def run():\n",
    "    img = cv.imread('iu.jpg')\n",
    "    #kernel = (np.ones((3,3), np.float32)/9)\n",
    "    kernel = np.array([[0,0,0],[0,1,0],[0,0,0]])\n",
    "    gray = cv.cvtColor(img,cv.COLOR_BGR2GRAY)\n",
    "    (iH, iW) = img.shape[:2]\n",
    "    #print(iH)\n",
    "    #print(iW)\n",
    "    (kH, kW) = kernel.shape[:2]\n",
    "    #print(kH)\n",
    "    #print(kW)\n",
    "    #pad = int((kW - 1) / 2)\n",
    "    pad = 5\n",
    "    stride=1\n",
    "    \n",
    "    dst = convolve(img, kernel,pad,stride)\n",
    "    \n",
    "    #plt.subplot(121), plt.imshow(img), plt.title('Original')\n",
    "    #plt.xticks([]), plt.yticks([])\n",
    "    #plt.subplot(122), plt.imshow(dst), plt.title('Averaging')\n",
    "    #plt.xticks([]), plt.yticks([])\n",
    "    #plt.show()\n",
    "    opencv_output= cv.filter2D(gray,-1,kernel)   \n",
    "    cv.imshow(\"image\",gray)\n",
    "    cv.imshow(\"image2\",dst)\n",
    "    cv.imshow(\"image3\",opencv_output)\n",
    "    cv.waitKey(0)\n",
    "    cv.destroyAllWindows()\n",
    "\n"
   ]
  },
  {
   "cell_type": "code",
   "execution_count": 5,
   "metadata": {},
   "outputs": [],
   "source": [
    "def convolve(img, kernel, pad, stride):\n",
    "    #convolution sequences\n",
    "    \n",
    "    #img2=cv.imread('img')\n",
    "    gray = cv.cvtColor(img,cv.COLOR_BGR2GRAY)\n",
    "    (iH, iW) = img.shape[:2]\n",
    "    (kH, kW) = kernel.shape[:2]       \n",
    "    output_width = int((iW + 2*pad -kW)/stride+1)\n",
    "    output_height =int((iH + 2*pad -kH)/stride+1)\n",
    "    image = cv.copyMakeBorder(gray, pad, pad, pad, pad,cv.BORDER_REPLICATE)\n",
    "    output = np.zeros((output_height, output_width), dtype=\"float32\")   \n",
    "    print(iH)\n",
    "    print(iW)\n",
    "    print(pad)\n",
    "    print(((2*pad)+iW)%kW)\n",
    "    print(((2*pad)+iH)%kH)\n",
    "    if (((2*pad)+iW)%kW==0):\n",
    "        control_W=0\n",
    "    elif(((2*pad)+iW)%kW==1):\n",
    "        control_W=1\n",
    "    elif(((2*pad)+iW)%kW==2):\n",
    "        control_W=2\n",
    "\n",
    "    if (((2*pad)+iH)%kH==0):\n",
    "        control_H=0\n",
    "    elif(((2*pad)+iH)%kH==1):\n",
    "        control_H=1\n",
    "    elif(((2*pad)+iH)%kH==2):\n",
    "        control_H=2\n",
    "\n",
    "    print(control_H)\n",
    "    print(control_W)\n",
    "    for y in np.arange(pad, iH + 2*pad,stride):\n",
    "        #사진의 사이즈가 padding값을 양쪽으로 더해주게 됬을 때의 값에 kenerl을 나눠줬을 때 나머지가 발생하지 않게 되면 오류가 발생하지 않는 느낌?\n",
    "        #고로 조건을 추가해서 다양한 크기의 사진에서도 동작하도록 해야함(하는중)\n",
    "        for x in np.arange(pad, iW + 2*pad,stride):\n",
    "            roi = image[y - pad:y-pad+kH , x - pad:x - pad +kW]\n",
    "            #print(y)\n",
    "            #print(roi)\n",
    "            #print(kernel)\n",
    "            k = (roi*kernel).sum()\n",
    "            output[int((y - pad)/stride), int((x - pad)/stride)] = k\n",
    "            #print(output)\n",
    "            #print(k)\n",
    "            #print(x)\n",
    "    output = rescale_intensity(output, in_range=(0, 255)) #0부터 255값으로 리스케일링 하는 함수\n",
    "    output = (output*255).astype(\"uint8\")  #리스케일랑 한 것을 다시 255 곱하여 이미지출력을 하기 위해서 uint8형으로 바꿔줌 이미지는 uint8만 사용 \n",
    "    #print(output)\n",
    "    #return output\n",
    "    #dst = output\n",
    "\n",
    "    return output\n",
    "\n"
   ]
  },
  {
   "cell_type": "code",
   "execution_count": 6,
   "metadata": {},
   "outputs": [
    {
     "name": "stdout",
     "output_type": "stream",
     "text": [
      "311\n",
      "200\n",
      "5\n",
      "0\n",
      "0\n",
      "0\n",
      "0\n"
     ]
    }
   ],
   "source": [
    "if  __name__=='__main__':\n",
    "    run()"
   ]
  },
  {
   "cell_type": "code",
   "execution_count": null,
   "metadata": {},
   "outputs": [],
   "source": []
  },
  {
   "cell_type": "code",
   "execution_count": null,
   "metadata": {},
   "outputs": [],
   "source": []
  }
 ],
 "metadata": {
  "kernelspec": {
   "display_name": "Python 3",
   "language": "python",
   "name": "python3"
  },
  "language_info": {
   "codemirror_mode": {
    "name": "ipython",
    "version": 3
   },
   "file_extension": ".py",
   "mimetype": "text/x-python",
   "name": "python",
   "nbconvert_exporter": "python",
   "pygments_lexer": "ipython3",
   "version": "3.5.2"
  }
 },
 "nbformat": 4,
 "nbformat_minor": 2
}
