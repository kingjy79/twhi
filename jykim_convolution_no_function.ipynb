{
 "cells": [
  {
   "cell_type": "code",
   "execution_count": 10,
   "metadata": {},
   "outputs": [
    {
     "name": "stdout",
     "output_type": "stream",
     "text": [
      "311\n",
      "200\n"
     ]
    }
   ],
   "source": [
    "import numpy as np\n",
    "import cv2 as cv\n",
    "from matplotlib import pyplot as plt\n",
    "import argparse\n",
    "from skimage.exposure import rescale_intensity\n",
    "#실험용1\n",
    "#stride =2\n",
    "stride=1\n",
    "#pad=int((kW - 1) / 2)\n",
    "img=cv.imread('iu.jpg')\n",
    "gray = cv.cvtColor(img,cv.COLOR_BGR2GRAY)\n",
    "#kernel = (np.ones((3,3), np.float32)/9)\n",
    "kernel = np.array([[0,0,0],[0,1,0],[0,0,0]])\n",
    "(iH, iW) = gray.shape[:2]\n",
    "(kH, kW) = kernel.shape[:2]\n",
    "#pad = int((kW - 1) / 2)\n",
    "pad=1\n",
    "\n",
    "\n",
    "\n",
    "\n",
    "\n",
    "output_width = int((iW + 2*pad -kW)/stride+1)\n",
    "output_height =int((iH + 2*pad -kH)/stride+1)\n",
    "\n",
    "\n",
    "#pad=int((stride*(output_width-1)-output_width)/2)\n",
    "#pad=1\n",
    "\n",
    "\n",
    "\n",
    "#kernel = np.array([[-1,-1,-1],[-1,8,-1],[-1,-1,-1]])\n",
    "\n",
    "\n",
    "\n",
    "\n",
    "\n",
    "\n",
    "img2 = cv.copyMakeBorder(gray, pad, pad, pad, pad,cv.BORDER_REPLICATE)\n",
    "output = np.zeros((output_height, output_width), dtype=\"float32\")\n",
    "print(iH)\n",
    "print(iW)\n",
    "for y in np.arange(pad, iH + pad,stride):\n",
    "    for x in np.arange(pad, iW + pad,stride):\n",
    "        roi = img2[y - pad:y-pad+kH , x - pad:x - pad +kW]\n",
    "        #print(y)\n",
    "        #print(roi)\n",
    "        #print(kernel)\n",
    "        k = (roi*kernel).sum()\n",
    "        output[int((y - pad)/stride), int((x - pad)/stride)] = k\n",
    "        #print(output)\n",
    "        #print(k)\n",
    "        #print(x)\n",
    "output = rescale_intensity(output, in_range=(0, 255)) #0부터 255값으로 리스케일링 하는 함수\n",
    "output = (output * 255).astype(\"uint8\")  #리스케일랑 한 것을 다시 255 곱하여 이미지출력을 하기 위해서 uint8형으로 바꿔줌 이미지는 uint8만 사용\n",
    "#print(output)\n",
    "#return output\n",
    "dst = output\n",
    " \n",
    "#plt.subplot(121), plt.imshow(img), plt.title('Original')\n",
    "#plt.xticks([]), plt.yticks([])\n",
    "#plt.subplot(122), plt.imshow(dst), plt.title('Averaging')\n",
    "#plt.xticks([]), plt.yticks([])\n",
    "#plt.show()\n",
    "opencv_output= cv.filter2D(gray,-1,kernel) \n",
    "cv.imshow(\"image\",img2)\n",
    "cv.imshow(\"image2\",dst)\n",
    "cv.imshow(\"image3\",opencv_output)\n",
    "cv.waitKey(0)\n",
    "cv.destroyAllWindows() "
   ]
  },
  {
   "cell_type": "code",
   "execution_count": null,
   "metadata": {},
   "outputs": [],
   "source": []
  }
 ],
 "metadata": {
  "kernelspec": {
   "display_name": "Python 3",
   "language": "python",
   "name": "python3"
  },
  "language_info": {
   "codemirror_mode": {
    "name": "ipython",
    "version": 3
   },
   "file_extension": ".py",
   "mimetype": "text/x-python",
   "name": "python",
   "nbconvert_exporter": "python",
   "pygments_lexer": "ipython3",
   "version": "3.5.2"
  }
 },
 "nbformat": 4,
 "nbformat_minor": 2
}
